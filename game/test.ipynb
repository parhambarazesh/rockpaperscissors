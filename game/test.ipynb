{
 "metadata": {
  "language_info": {
   "codemirror_mode": {
    "name": "ipython",
    "version": 3
   },
   "file_extension": ".py",
   "mimetype": "text/x-python",
   "name": "python",
   "nbconvert_exporter": "python",
   "pygments_lexer": "ipython3",
   "version": "3.8.3-final"
  },
  "orig_nbformat": 2,
  "kernelspec": {
   "name": "python38364bitrockpaperscissorsconda5736fd64ba334daaad918158d2a73473",
   "display_name": "Python 3.8.3 64-bit ('rockpaperscissors': conda)"
  }
 },
 "nbformat": 4,
 "nbformat_minor": 2,
 "cells": [
  {
   "cell_type": "code",
   "execution_count": 8,
   "metadata": {},
   "outputs": [],
   "source": [
    "import random\n",
    "import numpy as np"
   ]
  },
  {
   "cell_type": "code",
   "execution_count": 21,
   "metadata": {
    "tags": []
   },
   "outputs": [
    {
     "output_type": "execute_result",
     "data": {
      "text/plain": "6.0"
     },
     "metadata": {},
     "execution_count": 21
    }
   ],
   "source": [
    "np.floor(random.random()*9)"
   ]
  },
  {
   "cell_type": "code",
   "execution_count": 36,
   "metadata": {
    "tags": []
   },
   "outputs": [
    {
     "output_type": "stream",
     "name": "stdout",
     "text": "paper\nrock\nscissors\nrock\nrock\nscissors\nrock\nscissors\nscissors\nscissors\nscissors\npaper\nscissors\npaper\nrock\npaper\nscissors\npaper\npaper\npaper\nscissors\npaper\nscissors\nscissors\nrock\nscissors\npaper\nscissors\nrock\nscissors\npaper\nscissors\nscissors\nscissors\nscissors\nscissors\nscissors\nscissors\nrock\nscissors\npaper\npaper\nrock\nscissors\nscissors\nrock\nscissors\nrock\nscissors\nscissors\npaper\nscissors\nscissors\npaper\nscissors\nrock\nrock\nrock\nrock\npaper\npaper\nscissors\npaper\nrock\nrock\npaper\nrock\nrock\nrock\npaper\npaper\npaper\npaper\nscissors\npaper\nrock\nrock\nscissors\nscissors\nscissors\nrock\nrock\npaper\nrock\nscissors\nrock\nscissors\nrock\nrock\nrock\nrock\nscissors\nscissors\nscissors\npaper\npaper\npaper\nrock\nscissors\nrock\n"
    }
   ],
   "source": [
    "for i in range(100):\n",
    "    z=np.floor(random.random()*9)\n",
    "    if 0<=z<=2:\n",
    "        print('rock')\n",
    "    elif 3<=z<=5:\n",
    "        print('paper')\n",
    "    else:\n",
    "        print('scissors')"
   ]
  },
  {
   "cell_type": "code",
   "execution_count": null,
   "metadata": {},
   "outputs": [],
   "source": []
  }
 ]
}